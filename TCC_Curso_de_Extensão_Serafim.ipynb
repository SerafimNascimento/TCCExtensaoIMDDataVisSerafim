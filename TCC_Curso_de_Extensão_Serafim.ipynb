{
  "nbformat": 4,
  "nbformat_minor": 0,
  "metadata": {
    "colab": {
      "name": "TCC_Curso_de_Extensão_Serafim.ipynb",
      "provenance": [],
      "collapsed_sections": [],
      "toc_visible": true,
      "authorship_tag": "ABX9TyNFJ6CGbga2T1xIXolzprlY",
      "include_colab_link": true
    },
    "kernelspec": {
      "name": "python3",
      "display_name": "Python 3"
    },
    "language_info": {
      "name": "python"
    }
  },
  "cells": [
    {
      "cell_type": "markdown",
      "metadata": {
        "id": "view-in-github",
        "colab_type": "text"
      },
      "source": [
        "<a href=\"https://colab.research.google.com/github/SerafimNascimento/TCCExtensaoIMDDataVisSerafim/blob/main/TCC_Curso_de_Extens%C3%A3o_Serafim.ipynb\" target=\"_parent\"><img src=\"https://colab.research.google.com/assets/colab-badge.svg\" alt=\"Open In Colab\"/></a>"
      ]
    },
    {
      "cell_type": "markdown",
      "metadata": {
        "id": "uyosBhNpLnsf"
      },
      "source": [
        "# **INTEGRA SCHOOL 2021**\n",
        "## Curso: **Introdução a Visualização de Dados com Python**\n",
        "Professor: **Carlos Artur Guimarães**"
      ]
    },
    {
      "cell_type": "markdown",
      "metadata": {
        "id": "OIV3QEsONaxh"
      },
      "source": [
        "# **Trabalho de Conclusão de Curso**\n",
        "**Título:** Análise da Evolução da Taxa de Pobreza no Brasil de 2006 a 2013 \\\\\n",
        "**Componente**: *Serafim do Nascimento Junior* \\\\\n",
        "\n",
        "<ul type=\"square\">\n",
        "  <li> <strong>Problemática:</strong> A pobreza no Brasil é um problema de difícil solução e que atinge uma boa parte da população. A taxa de pobreza é a relação da quantidade de pessoas (dentro de um determinado grupo de idade) pela qual a renda está abaixo da linha da pobreza e é dada pela metade da mediana da renda familiar de toda a população. A taxa de pobreza pode ser medida por diferentes grupos de idade: pobreza infantil (0-17 anos de idade); pobreza em idade produtiva (18-65 anos de idade); e pobreza entre idosos (66 anos ou acima dessa idade). </li>\n",
        "  <li> <strong>O que é:</strong> Histórico da diminuição da pobreza de 2006 a 2013. </li>\n",
        "  <li> <strong>Fonte de Dados:</strong> <i>Organização para a Cooperação e Desenvolvimento Econômico</i> (OCDE). Link para obtenção da base de dados: <a>https://data.oecd.org/inequality/poverty-rate.htm#indicator-chart</a></li>\n",
        "  <li> <strong>Área da ONU:</strong> <i>Erradicação da Pobreza</i> (1ª área) </li>\n",
        "  <li> <strong>Objetivo:</strong> <i>Acabar com a pobreza em todas as suas formas, em todos os lugares</i>. </li>\n",
        "</ul>"
      ]
    },
    {
      "cell_type": "markdown",
      "metadata": {
        "id": "mIKS7dNfSs47"
      },
      "source": [
        "#**Obtenção dos Dados**"
      ]
    },
    {
      "cell_type": "code",
      "metadata": {
        "id": "mkCg4yqyXt_I"
      },
      "source": [
        "# Importações importantes\n",
        "import pandas as pd # Biblioteca Pandas\n",
        "import matplotlib.pyplot as plt # Biblioteca matplotlib.pyplot\n",
        "import plotly.express as px # Biblioteca plotly.express\n",
        "import seaborn as sns # Biblioteca seaborn"
      ],
      "execution_count": 65,
      "outputs": []
    },
    {
      "cell_type": "code",
      "metadata": {
        "colab": {
          "base_uri": "https://localhost:8080/",
          "height": 419
        },
        "id": "2fTgc74kX60j",
        "outputId": "4aa9c9bf-ffc2-4f75-a25b-8665ebe63094"
      },
      "source": [
        "# Lendo a base de dados\n",
        "# O nome real da base de dados era DP_LIVE_15062021040908747. Entretanto, eu\n",
        "#decidi alterar para fazer mais sentido com o trabalho e, também, com a leitura\n",
        "#do arquivo.\n",
        "paises = pd.read_csv(\"/content/Taxa_de_Pobreza_no_Mundo.csv\")\n",
        "#Apresentando a base de dados\n",
        "paises"
      ],
      "execution_count": 67,
      "outputs": [
        {
          "output_type": "execute_result",
          "data": {
            "text/html": [
              "<div>\n",
              "<style scoped>\n",
              "    .dataframe tbody tr th:only-of-type {\n",
              "        vertical-align: middle;\n",
              "    }\n",
              "\n",
              "    .dataframe tbody tr th {\n",
              "        vertical-align: top;\n",
              "    }\n",
              "\n",
              "    .dataframe thead th {\n",
              "        text-align: right;\n",
              "    }\n",
              "</style>\n",
              "<table border=\"1\" class=\"dataframe\">\n",
              "  <thead>\n",
              "    <tr style=\"text-align: right;\">\n",
              "      <th></th>\n",
              "      <th>LOCATION</th>\n",
              "      <th>INDICATOR</th>\n",
              "      <th>SUBJECT</th>\n",
              "      <th>MEASURE</th>\n",
              "      <th>FREQUENCY</th>\n",
              "      <th>TIME</th>\n",
              "      <th>Value</th>\n",
              "      <th>Flag Codes</th>\n",
              "    </tr>\n",
              "  </thead>\n",
              "  <tbody>\n",
              "    <tr>\n",
              "      <th>0</th>\n",
              "      <td>AUS</td>\n",
              "      <td>POVERTY</td>\n",
              "      <td>0_17</td>\n",
              "      <td>RT</td>\n",
              "      <td>A</td>\n",
              "      <td>2012</td>\n",
              "      <td>0.129</td>\n",
              "      <td>NaN</td>\n",
              "    </tr>\n",
              "    <tr>\n",
              "      <th>1</th>\n",
              "      <td>AUS</td>\n",
              "      <td>POVERTY</td>\n",
              "      <td>0_17</td>\n",
              "      <td>RT</td>\n",
              "      <td>A</td>\n",
              "      <td>2014</td>\n",
              "      <td>0.130</td>\n",
              "      <td>NaN</td>\n",
              "    </tr>\n",
              "    <tr>\n",
              "      <th>2</th>\n",
              "      <td>AUS</td>\n",
              "      <td>POVERTY</td>\n",
              "      <td>0_17</td>\n",
              "      <td>RT</td>\n",
              "      <td>A</td>\n",
              "      <td>2016</td>\n",
              "      <td>0.125</td>\n",
              "      <td>NaN</td>\n",
              "    </tr>\n",
              "    <tr>\n",
              "      <th>3</th>\n",
              "      <td>AUS</td>\n",
              "      <td>POVERTY</td>\n",
              "      <td>0_17</td>\n",
              "      <td>RT</td>\n",
              "      <td>A</td>\n",
              "      <td>2018</td>\n",
              "      <td>0.133</td>\n",
              "      <td>NaN</td>\n",
              "    </tr>\n",
              "    <tr>\n",
              "      <th>4</th>\n",
              "      <td>AUS</td>\n",
              "      <td>POVERTY</td>\n",
              "      <td>TOT</td>\n",
              "      <td>RT</td>\n",
              "      <td>A</td>\n",
              "      <td>2012</td>\n",
              "      <td>0.140</td>\n",
              "      <td>NaN</td>\n",
              "    </tr>\n",
              "    <tr>\n",
              "      <th>...</th>\n",
              "      <td>...</td>\n",
              "      <td>...</td>\n",
              "      <td>...</td>\n",
              "      <td>...</td>\n",
              "      <td>...</td>\n",
              "      <td>...</td>\n",
              "      <td>...</td>\n",
              "      <td>...</td>\n",
              "    </tr>\n",
              "    <tr>\n",
              "      <th>1771</th>\n",
              "      <td>ROU</td>\n",
              "      <td>POVERTY</td>\n",
              "      <td>66MORE</td>\n",
              "      <td>RT</td>\n",
              "      <td>A</td>\n",
              "      <td>2014</td>\n",
              "      <td>0.144</td>\n",
              "      <td>NaN</td>\n",
              "    </tr>\n",
              "    <tr>\n",
              "      <th>1772</th>\n",
              "      <td>ROU</td>\n",
              "      <td>POVERTY</td>\n",
              "      <td>66MORE</td>\n",
              "      <td>RT</td>\n",
              "      <td>A</td>\n",
              "      <td>2015</td>\n",
              "      <td>0.148</td>\n",
              "      <td>NaN</td>\n",
              "    </tr>\n",
              "    <tr>\n",
              "      <th>1773</th>\n",
              "      <td>ROU</td>\n",
              "      <td>POVERTY</td>\n",
              "      <td>66MORE</td>\n",
              "      <td>RT</td>\n",
              "      <td>A</td>\n",
              "      <td>2016</td>\n",
              "      <td>0.161</td>\n",
              "      <td>NaN</td>\n",
              "    </tr>\n",
              "    <tr>\n",
              "      <th>1774</th>\n",
              "      <td>ROU</td>\n",
              "      <td>POVERTY</td>\n",
              "      <td>66MORE</td>\n",
              "      <td>RT</td>\n",
              "      <td>A</td>\n",
              "      <td>2017</td>\n",
              "      <td>0.185</td>\n",
              "      <td>NaN</td>\n",
              "    </tr>\n",
              "    <tr>\n",
              "      <th>1775</th>\n",
              "      <td>ROU</td>\n",
              "      <td>POVERTY</td>\n",
              "      <td>66MORE</td>\n",
              "      <td>RT</td>\n",
              "      <td>A</td>\n",
              "      <td>2018</td>\n",
              "      <td>0.189</td>\n",
              "      <td>NaN</td>\n",
              "    </tr>\n",
              "  </tbody>\n",
              "</table>\n",
              "<p>1776 rows × 8 columns</p>\n",
              "</div>"
            ],
            "text/plain": [
              "     LOCATION INDICATOR SUBJECT MEASURE FREQUENCY  TIME  Value Flag Codes\n",
              "0         AUS   POVERTY    0_17      RT         A  2012  0.129        NaN\n",
              "1         AUS   POVERTY    0_17      RT         A  2014  0.130        NaN\n",
              "2         AUS   POVERTY    0_17      RT         A  2016  0.125        NaN\n",
              "3         AUS   POVERTY    0_17      RT         A  2018  0.133        NaN\n",
              "4         AUS   POVERTY     TOT      RT         A  2012  0.140        NaN\n",
              "...       ...       ...     ...     ...       ...   ...    ...        ...\n",
              "1771      ROU   POVERTY  66MORE      RT         A  2014  0.144        NaN\n",
              "1772      ROU   POVERTY  66MORE      RT         A  2015  0.148        NaN\n",
              "1773      ROU   POVERTY  66MORE      RT         A  2016  0.161        NaN\n",
              "1774      ROU   POVERTY  66MORE      RT         A  2017  0.185        NaN\n",
              "1775      ROU   POVERTY  66MORE      RT         A  2018  0.189        NaN\n",
              "\n",
              "[1776 rows x 8 columns]"
            ]
          },
          "metadata": {
            "tags": []
          },
          "execution_count": 67
        }
      ]
    },
    {
      "cell_type": "markdown",
      "metadata": {
        "id": "6C2Tll0DS9JA"
      },
      "source": [
        "#**Limpeza dos Dados**\n",
        "Traduzida do Inglês *scrubbing data*."
      ]
    },
    {
      "cell_type": "code",
      "metadata": {
        "colab": {
          "base_uri": "https://localhost:8080/",
          "height": 419
        },
        "id": "zVSOceJc6Jin",
        "outputId": "37308ce4-ab53-407c-9acc-401254ef75f6"
      },
      "source": [
        "#Analisando a base de dados completa para realização da limpeza de dados\n",
        "paises"
      ],
      "execution_count": 68,
      "outputs": [
        {
          "output_type": "execute_result",
          "data": {
            "text/html": [
              "<div>\n",
              "<style scoped>\n",
              "    .dataframe tbody tr th:only-of-type {\n",
              "        vertical-align: middle;\n",
              "    }\n",
              "\n",
              "    .dataframe tbody tr th {\n",
              "        vertical-align: top;\n",
              "    }\n",
              "\n",
              "    .dataframe thead th {\n",
              "        text-align: right;\n",
              "    }\n",
              "</style>\n",
              "<table border=\"1\" class=\"dataframe\">\n",
              "  <thead>\n",
              "    <tr style=\"text-align: right;\">\n",
              "      <th></th>\n",
              "      <th>LOCATION</th>\n",
              "      <th>INDICATOR</th>\n",
              "      <th>SUBJECT</th>\n",
              "      <th>MEASURE</th>\n",
              "      <th>FREQUENCY</th>\n",
              "      <th>TIME</th>\n",
              "      <th>Value</th>\n",
              "      <th>Flag Codes</th>\n",
              "    </tr>\n",
              "  </thead>\n",
              "  <tbody>\n",
              "    <tr>\n",
              "      <th>0</th>\n",
              "      <td>AUS</td>\n",
              "      <td>POVERTY</td>\n",
              "      <td>0_17</td>\n",
              "      <td>RT</td>\n",
              "      <td>A</td>\n",
              "      <td>2012</td>\n",
              "      <td>0.129</td>\n",
              "      <td>NaN</td>\n",
              "    </tr>\n",
              "    <tr>\n",
              "      <th>1</th>\n",
              "      <td>AUS</td>\n",
              "      <td>POVERTY</td>\n",
              "      <td>0_17</td>\n",
              "      <td>RT</td>\n",
              "      <td>A</td>\n",
              "      <td>2014</td>\n",
              "      <td>0.130</td>\n",
              "      <td>NaN</td>\n",
              "    </tr>\n",
              "    <tr>\n",
              "      <th>2</th>\n",
              "      <td>AUS</td>\n",
              "      <td>POVERTY</td>\n",
              "      <td>0_17</td>\n",
              "      <td>RT</td>\n",
              "      <td>A</td>\n",
              "      <td>2016</td>\n",
              "      <td>0.125</td>\n",
              "      <td>NaN</td>\n",
              "    </tr>\n",
              "    <tr>\n",
              "      <th>3</th>\n",
              "      <td>AUS</td>\n",
              "      <td>POVERTY</td>\n",
              "      <td>0_17</td>\n",
              "      <td>RT</td>\n",
              "      <td>A</td>\n",
              "      <td>2018</td>\n",
              "      <td>0.133</td>\n",
              "      <td>NaN</td>\n",
              "    </tr>\n",
              "    <tr>\n",
              "      <th>4</th>\n",
              "      <td>AUS</td>\n",
              "      <td>POVERTY</td>\n",
              "      <td>TOT</td>\n",
              "      <td>RT</td>\n",
              "      <td>A</td>\n",
              "      <td>2012</td>\n",
              "      <td>0.140</td>\n",
              "      <td>NaN</td>\n",
              "    </tr>\n",
              "    <tr>\n",
              "      <th>...</th>\n",
              "      <td>...</td>\n",
              "      <td>...</td>\n",
              "      <td>...</td>\n",
              "      <td>...</td>\n",
              "      <td>...</td>\n",
              "      <td>...</td>\n",
              "      <td>...</td>\n",
              "      <td>...</td>\n",
              "    </tr>\n",
              "    <tr>\n",
              "      <th>1771</th>\n",
              "      <td>ROU</td>\n",
              "      <td>POVERTY</td>\n",
              "      <td>66MORE</td>\n",
              "      <td>RT</td>\n",
              "      <td>A</td>\n",
              "      <td>2014</td>\n",
              "      <td>0.144</td>\n",
              "      <td>NaN</td>\n",
              "    </tr>\n",
              "    <tr>\n",
              "      <th>1772</th>\n",
              "      <td>ROU</td>\n",
              "      <td>POVERTY</td>\n",
              "      <td>66MORE</td>\n",
              "      <td>RT</td>\n",
              "      <td>A</td>\n",
              "      <td>2015</td>\n",
              "      <td>0.148</td>\n",
              "      <td>NaN</td>\n",
              "    </tr>\n",
              "    <tr>\n",
              "      <th>1773</th>\n",
              "      <td>ROU</td>\n",
              "      <td>POVERTY</td>\n",
              "      <td>66MORE</td>\n",
              "      <td>RT</td>\n",
              "      <td>A</td>\n",
              "      <td>2016</td>\n",
              "      <td>0.161</td>\n",
              "      <td>NaN</td>\n",
              "    </tr>\n",
              "    <tr>\n",
              "      <th>1774</th>\n",
              "      <td>ROU</td>\n",
              "      <td>POVERTY</td>\n",
              "      <td>66MORE</td>\n",
              "      <td>RT</td>\n",
              "      <td>A</td>\n",
              "      <td>2017</td>\n",
              "      <td>0.185</td>\n",
              "      <td>NaN</td>\n",
              "    </tr>\n",
              "    <tr>\n",
              "      <th>1775</th>\n",
              "      <td>ROU</td>\n",
              "      <td>POVERTY</td>\n",
              "      <td>66MORE</td>\n",
              "      <td>RT</td>\n",
              "      <td>A</td>\n",
              "      <td>2018</td>\n",
              "      <td>0.189</td>\n",
              "      <td>NaN</td>\n",
              "    </tr>\n",
              "  </tbody>\n",
              "</table>\n",
              "<p>1776 rows × 8 columns</p>\n",
              "</div>"
            ],
            "text/plain": [
              "     LOCATION INDICATOR SUBJECT MEASURE FREQUENCY  TIME  Value Flag Codes\n",
              "0         AUS   POVERTY    0_17      RT         A  2012  0.129        NaN\n",
              "1         AUS   POVERTY    0_17      RT         A  2014  0.130        NaN\n",
              "2         AUS   POVERTY    0_17      RT         A  2016  0.125        NaN\n",
              "3         AUS   POVERTY    0_17      RT         A  2018  0.133        NaN\n",
              "4         AUS   POVERTY     TOT      RT         A  2012  0.140        NaN\n",
              "...       ...       ...     ...     ...       ...   ...    ...        ...\n",
              "1771      ROU   POVERTY  66MORE      RT         A  2014  0.144        NaN\n",
              "1772      ROU   POVERTY  66MORE      RT         A  2015  0.148        NaN\n",
              "1773      ROU   POVERTY  66MORE      RT         A  2016  0.161        NaN\n",
              "1774      ROU   POVERTY  66MORE      RT         A  2017  0.185        NaN\n",
              "1775      ROU   POVERTY  66MORE      RT         A  2018  0.189        NaN\n",
              "\n",
              "[1776 rows x 8 columns]"
            ]
          },
          "metadata": {
            "tags": []
          },
          "execution_count": 68
        }
      ]
    },
    {
      "cell_type": "code",
      "metadata": {
        "colab": {
          "base_uri": "https://localhost:8080/",
          "height": 556
        },
        "id": "OV5v_8g66dQu",
        "outputId": "27824827-5c68-484e-95e2-4195fdc95581"
      },
      "source": [
        "# Importação da biblioteca Missingno para auxiliar na limpeza dos dados.\n",
        "# A bibliteca permite a visualização de colunas com ausência de valores.\n",
        "import missingno as msngno\n",
        "msngno.matrix(paises)\n",
        "# A função matrix torna possível a plotagem do gráfico apresentado abaixo.\n",
        "# Os espaços em branco do gráfico indicam valores ausentes na base de dados\n",
        "# Por outro lado, os espaços na cor cinza escuro indicam que há valores\n",
        "#na base nos campos das colunas da base de dados.\n",
        "# Como podemos observar no gráfico gerado, a coluna Flag Codes possui\n",
        "#pouquíssimos valores. Sendo assim, podemos desconsiderar a coluna Flags Codes,\n",
        "#pois não haverá interferência na análise que eu quero fazer."
      ],
      "execution_count": 69,
      "outputs": [
        {
          "output_type": "execute_result",
          "data": {
            "text/plain": [
              "<matplotlib.axes._subplots.AxesSubplot at 0x7ffaf1feac50>"
            ]
          },
          "metadata": {
            "tags": []
          },
          "execution_count": 69
        },
        {
          "output_type": "display_data",
          "data": {
            "image/png": "[encoded data removed]",
            "text/plain": [
              "<Figure size 1800x720 with 2 Axes>"
            ]
          },
          "metadata": {
            "tags": []
          }
        }
      ]
    },
    {
      "cell_type": "code",
      "metadata": {
        "colab": {
          "base_uri": "https://localhost:8080/",
          "height": 601
        },
        "id": "OmYSbZf17FmH",
        "outputId": "04d04072-0f1b-40ee-af23-27d3fe5d49af"
      },
      "source": [
        "msngno.bar(paises)\n",
        "# A função bar também pode ser utilizada para visualizar colunas com valores\n",
        "#ausentes. Tal função apresenta um gráfico de barras com a quantidade de valores\n",
        "#não nulos em cada coluna, especificamente, acima de cada barra.\n",
        "# Dessa maneira, podemos confirmar o que já identificamos anteriormente: a\n",
        "#coluna Flag Codes, diferente das demais, possui muitos valores nulos devido\n",
        "#a função bar ter retornado que ela tem só 8 valores não nulos. As outras\n",
        "#colunas da base possuem 1776 valores não nulos, isto é, estão completas."
      ],
      "execution_count": 70,
      "outputs": [
        {
          "output_type": "execute_result",
          "data": {
            "text/plain": [
              "<matplotlib.axes._subplots.AxesSubplot at 0x7ffaf1f99150>"
            ]
          },
          "metadata": {
            "tags": []
          },
          "execution_count": 70
        },
        {
          "output_type": "display_data",
          "data": {
            "image/png": "[encoded data removed]",
            "text/plain": [
              "<Figure size 1728x720 with 3 Axes>"
            ]
          },
          "metadata": {
            "tags": []
          }
        }
      ]
    },
    {
      "cell_type": "code",
      "metadata": {
        "colab": {
          "base_uri": "https://localhost:8080/",
          "height": 784
        },
        "id": "z3TXfZFZ72c7",
        "outputId": "cf5824bf-1e1c-453b-a677-9a513c7b80f3"
      },
      "source": [
        "msngno.heatmap(paises)"
      ],
      "execution_count": 71,
      "outputs": [
        {
          "output_type": "execute_result",
          "data": {
            "text/plain": [
              "<matplotlib.axes._subplots.AxesSubplot at 0x7ffaf1f1c810>"
            ]
          },
          "metadata": {
            "tags": []
          },
          "execution_count": 71
        },
        {
          "output_type": "display_data",
          "data": {
            "image/png": "[encoded data removed]",
            "text/plain": [
              "<Figure size 1440x864 with 2 Axes>"
            ]
          },
          "metadata": {
            "tags": []
          }
        }
      ]
    },
    {
      "cell_type": "code",
      "metadata": {
        "colab": {
          "base_uri": "https://localhost:8080/",
          "height": 560
        },
        "id": "BGQ5foin78CR",
        "outputId": "541a7a3c-b1e2-4ca8-9e59-bcd802363e9a"
      },
      "source": [
        "msngno.dendrogram(paises)"
      ],
      "execution_count": 72,
      "outputs": [
        {
          "output_type": "execute_result",
          "data": {
            "text/plain": [
              "<matplotlib.axes._subplots.AxesSubplot at 0x7ffaf1eb4d90>"
            ]
          },
          "metadata": {
            "tags": []
          },
          "execution_count": 72
        },
        {
          "output_type": "display_data",
          "data": {
            "image/png": "[encoded data removed]",
            "text/plain": [
              "<Figure size 1800x720 with 1 Axes>"
            ]
          },
          "metadata": {
            "tags": []
          }
        }
      ]
    },
    {
      "cell_type": "code",
      "metadata": {
        "id": "a9uugljC8Nz6"
      },
      "source": [
        "# Após ter sido identificado que quase 100% dos valores da coluna Flag Codes\n",
        "#são nulos, essa coluna será removida pois ela não será necessária para a\n",
        "#análise que quero fazer com a base de dados.\n",
        "paises = paises.drop('Flag Codes', axis = 1)\n",
        "# Coloquei axis = 1 porque quero remover um coluna.\n",
        "# Se eu quisesse remover uma linha, deveria colocar axis = 0.\n"
      ],
      "execution_count": 73,
      "outputs": []
    },
    {
      "cell_type": "code",
      "metadata": {
        "colab": {
          "base_uri": "https://localhost:8080/",
          "height": 419
        },
        "id": "pmnClTes6_qU",
        "outputId": "4102fc57-0a04-4f8c-8438-ae766d2b65c6"
      },
      "source": [
        "# Apresento novamente a base de dados referente ao Brasil para mostrar que\n",
        "#a coluna Flag Codes foi removida.\n",
        "paises"
      ],
      "execution_count": 74,
      "outputs": [
        {
          "output_type": "execute_result",
          "data": {
            "text/html": [
              "<div>\n",
              "<style scoped>\n",
              "    .dataframe tbody tr th:only-of-type {\n",
              "        vertical-align: middle;\n",
              "    }\n",
              "\n",
              "    .dataframe tbody tr th {\n",
              "        vertical-align: top;\n",
              "    }\n",
              "\n",
              "    .dataframe thead th {\n",
              "        text-align: right;\n",
              "    }\n",
              "</style>\n",
              "<table border=\"1\" class=\"dataframe\">\n",
              "  <thead>\n",
              "    <tr style=\"text-align: right;\">\n",
              "      <th></th>\n",
              "      <th>LOCATION</th>\n",
              "      <th>INDICATOR</th>\n",
              "      <th>SUBJECT</th>\n",
              "      <th>MEASURE</th>\n",
              "      <th>FREQUENCY</th>\n",
              "      <th>TIME</th>\n",
              "      <th>Value</th>\n",
              "    </tr>\n",
              "  </thead>\n",
              "  <tbody>\n",
              "    <tr>\n",
              "      <th>0</th>\n",
              "      <td>AUS</td>\n",
              "      <td>POVERTY</td>\n",
              "      <td>0_17</td>\n",
              "      <td>RT</td>\n",
              "      <td>A</td>\n",
              "      <td>2012</td>\n",
              "      <td>0.129</td>\n",
              "    </tr>\n",
              "    <tr>\n",
              "      <th>1</th>\n",
              "      <td>AUS</td>\n",
              "      <td>POVERTY</td>\n",
              "      <td>0_17</td>\n",
              "      <td>RT</td>\n",
              "      <td>A</td>\n",
              "      <td>2014</td>\n",
              "      <td>0.130</td>\n",
              "    </tr>\n",
              "    <tr>\n",
              "      <th>2</th>\n",
              "      <td>AUS</td>\n",
              "      <td>POVERTY</td>\n",
              "      <td>0_17</td>\n",
              "      <td>RT</td>\n",
              "      <td>A</td>\n",
              "      <td>2016</td>\n",
              "      <td>0.125</td>\n",
              "    </tr>\n",
              "    <tr>\n",
              "      <th>3</th>\n",
              "      <td>AUS</td>\n",
              "      <td>POVERTY</td>\n",
              "      <td>0_17</td>\n",
              "      <td>RT</td>\n",
              "      <td>A</td>\n",
              "      <td>2018</td>\n",
              "      <td>0.133</td>\n",
              "    </tr>\n",
              "    <tr>\n",
              "      <th>4</th>\n",
              "      <td>AUS</td>\n",
              "      <td>POVERTY</td>\n",
              "      <td>TOT</td>\n",
              "      <td>RT</td>\n",
              "      <td>A</td>\n",
              "      <td>2012</td>\n",
              "      <td>0.140</td>\n",
              "    </tr>\n",
              "    <tr>\n",
              "      <th>...</th>\n",
              "      <td>...</td>\n",
              "      <td>...</td>\n",
              "      <td>...</td>\n",
              "      <td>...</td>\n",
              "      <td>...</td>\n",
              "      <td>...</td>\n",
              "      <td>...</td>\n",
              "    </tr>\n",
              "    <tr>\n",
              "      <th>1771</th>\n",
              "      <td>ROU</td>\n",
              "      <td>POVERTY</td>\n",
              "      <td>66MORE</td>\n",
              "      <td>RT</td>\n",
              "      <td>A</td>\n",
              "      <td>2014</td>\n",
              "      <td>0.144</td>\n",
              "    </tr>\n",
              "    <tr>\n",
              "      <th>1772</th>\n",
              "      <td>ROU</td>\n",
              "      <td>POVERTY</td>\n",
              "      <td>66MORE</td>\n",
              "      <td>RT</td>\n",
              "      <td>A</td>\n",
              "      <td>2015</td>\n",
              "      <td>0.148</td>\n",
              "    </tr>\n",
              "    <tr>\n",
              "      <th>1773</th>\n",
              "      <td>ROU</td>\n",
              "      <td>POVERTY</td>\n",
              "      <td>66MORE</td>\n",
              "      <td>RT</td>\n",
              "      <td>A</td>\n",
              "      <td>2016</td>\n",
              "      <td>0.161</td>\n",
              "    </tr>\n",
              "    <tr>\n",
              "      <th>1774</th>\n",
              "      <td>ROU</td>\n",
              "      <td>POVERTY</td>\n",
              "      <td>66MORE</td>\n",
              "      <td>RT</td>\n",
              "      <td>A</td>\n",
              "      <td>2017</td>\n",
              "      <td>0.185</td>\n",
              "    </tr>\n",
              "    <tr>\n",
              "      <th>1775</th>\n",
              "      <td>ROU</td>\n",
              "      <td>POVERTY</td>\n",
              "      <td>66MORE</td>\n",
              "      <td>RT</td>\n",
              "      <td>A</td>\n",
              "      <td>2018</td>\n",
              "      <td>0.189</td>\n",
              "    </tr>\n",
              "  </tbody>\n",
              "</table>\n",
              "<p>1776 rows × 7 columns</p>\n",
              "</div>"
            ],
            "text/plain": [
              "     LOCATION INDICATOR SUBJECT MEASURE FREQUENCY  TIME  Value\n",
              "0         AUS   POVERTY    0_17      RT         A  2012  0.129\n",
              "1         AUS   POVERTY    0_17      RT         A  2014  0.130\n",
              "2         AUS   POVERTY    0_17      RT         A  2016  0.125\n",
              "3         AUS   POVERTY    0_17      RT         A  2018  0.133\n",
              "4         AUS   POVERTY     TOT      RT         A  2012  0.140\n",
              "...       ...       ...     ...     ...       ...   ...    ...\n",
              "1771      ROU   POVERTY  66MORE      RT         A  2014  0.144\n",
              "1772      ROU   POVERTY  66MORE      RT         A  2015  0.148\n",
              "1773      ROU   POVERTY  66MORE      RT         A  2016  0.161\n",
              "1774      ROU   POVERTY  66MORE      RT         A  2017  0.185\n",
              "1775      ROU   POVERTY  66MORE      RT         A  2018  0.189\n",
              "\n",
              "[1776 rows x 7 columns]"
            ]
          },
          "metadata": {
            "tags": []
          },
          "execution_count": 74
        }
      ]
    },
    {
      "cell_type": "markdown",
      "metadata": {
        "id": "6Q4Wd6VC8Uxf"
      },
      "source": [
        ""
      ]
    },
    {
      "cell_type": "code",
      "metadata": {
        "colab": {
          "base_uri": "https://localhost:8080/",
          "height": 545
        },
        "id": "NketejgneCI4",
        "outputId": "7a0e0975-6dc5-48b3-8453-77b26b6e71c0"
      },
      "source": [
        "# Como precisarei somente analisar os dados do Brasil para a minha pesquisa, eu\n",
        "#criei uma base de dados somente para esse país e, dessa forma, está concluída\n",
        "#a limpeza dos dados.\n",
        "pais_brasil = paises.loc[paises['LOCATION']=='BRA']\n",
        "pais_brasil"
      ],
      "execution_count": 75,
      "outputs": [
        {
          "output_type": "execute_result",
          "data": {
            "text/html": [
              "<div>\n",
              "<style scoped>\n",
              "    .dataframe tbody tr th:only-of-type {\n",
              "        vertical-align: middle;\n",
              "    }\n",
              "\n",
              "    .dataframe tbody tr th {\n",
              "        vertical-align: top;\n",
              "    }\n",
              "\n",
              "    .dataframe thead th {\n",
              "        text-align: right;\n",
              "    }\n",
              "</style>\n",
              "<table border=\"1\" class=\"dataframe\">\n",
              "  <thead>\n",
              "    <tr style=\"text-align: right;\">\n",
              "      <th></th>\n",
              "      <th>LOCATION</th>\n",
              "      <th>INDICATOR</th>\n",
              "      <th>SUBJECT</th>\n",
              "      <th>MEASURE</th>\n",
              "      <th>FREQUENCY</th>\n",
              "      <th>TIME</th>\n",
              "      <th>Value</th>\n",
              "    </tr>\n",
              "  </thead>\n",
              "  <tbody>\n",
              "    <tr>\n",
              "      <th>1592</th>\n",
              "      <td>BRA</td>\n",
              "      <td>POVERTY</td>\n",
              "      <td>0_17</td>\n",
              "      <td>RT</td>\n",
              "      <td>A</td>\n",
              "      <td>2006</td>\n",
              "      <td>0.312</td>\n",
              "    </tr>\n",
              "    <tr>\n",
              "      <th>1593</th>\n",
              "      <td>BRA</td>\n",
              "      <td>POVERTY</td>\n",
              "      <td>0_17</td>\n",
              "      <td>RT</td>\n",
              "      <td>A</td>\n",
              "      <td>2009</td>\n",
              "      <td>0.307</td>\n",
              "    </tr>\n",
              "    <tr>\n",
              "      <th>1594</th>\n",
              "      <td>BRA</td>\n",
              "      <td>POVERTY</td>\n",
              "      <td>0_17</td>\n",
              "      <td>RT</td>\n",
              "      <td>A</td>\n",
              "      <td>2011</td>\n",
              "      <td>0.308</td>\n",
              "    </tr>\n",
              "    <tr>\n",
              "      <th>1595</th>\n",
              "      <td>BRA</td>\n",
              "      <td>POVERTY</td>\n",
              "      <td>0_17</td>\n",
              "      <td>RT</td>\n",
              "      <td>A</td>\n",
              "      <td>2013</td>\n",
              "      <td>0.301</td>\n",
              "    </tr>\n",
              "    <tr>\n",
              "      <th>1596</th>\n",
              "      <td>BRA</td>\n",
              "      <td>POVERTY</td>\n",
              "      <td>TOT</td>\n",
              "      <td>RT</td>\n",
              "      <td>A</td>\n",
              "      <td>2006</td>\n",
              "      <td>0.212</td>\n",
              "    </tr>\n",
              "    <tr>\n",
              "      <th>1597</th>\n",
              "      <td>BRA</td>\n",
              "      <td>POVERTY</td>\n",
              "      <td>TOT</td>\n",
              "      <td>RT</td>\n",
              "      <td>A</td>\n",
              "      <td>2009</td>\n",
              "      <td>0.206</td>\n",
              "    </tr>\n",
              "    <tr>\n",
              "      <th>1598</th>\n",
              "      <td>BRA</td>\n",
              "      <td>POVERTY</td>\n",
              "      <td>TOT</td>\n",
              "      <td>RT</td>\n",
              "      <td>A</td>\n",
              "      <td>2011</td>\n",
              "      <td>0.209</td>\n",
              "    </tr>\n",
              "    <tr>\n",
              "      <th>1599</th>\n",
              "      <td>BRA</td>\n",
              "      <td>POVERTY</td>\n",
              "      <td>TOT</td>\n",
              "      <td>RT</td>\n",
              "      <td>A</td>\n",
              "      <td>2013</td>\n",
              "      <td>0.200</td>\n",
              "    </tr>\n",
              "    <tr>\n",
              "      <th>1600</th>\n",
              "      <td>BRA</td>\n",
              "      <td>POVERTY</td>\n",
              "      <td>18_65</td>\n",
              "      <td>RT</td>\n",
              "      <td>A</td>\n",
              "      <td>2006</td>\n",
              "      <td>0.176</td>\n",
              "    </tr>\n",
              "    <tr>\n",
              "      <th>1601</th>\n",
              "      <td>BRA</td>\n",
              "      <td>POVERTY</td>\n",
              "      <td>18_65</td>\n",
              "      <td>RT</td>\n",
              "      <td>A</td>\n",
              "      <td>2009</td>\n",
              "      <td>0.174</td>\n",
              "    </tr>\n",
              "    <tr>\n",
              "      <th>1602</th>\n",
              "      <td>BRA</td>\n",
              "      <td>POVERTY</td>\n",
              "      <td>18_65</td>\n",
              "      <td>RT</td>\n",
              "      <td>A</td>\n",
              "      <td>2011</td>\n",
              "      <td>0.180</td>\n",
              "    </tr>\n",
              "    <tr>\n",
              "      <th>1603</th>\n",
              "      <td>BRA</td>\n",
              "      <td>POVERTY</td>\n",
              "      <td>18_65</td>\n",
              "      <td>RT</td>\n",
              "      <td>A</td>\n",
              "      <td>2013</td>\n",
              "      <td>0.173</td>\n",
              "    </tr>\n",
              "    <tr>\n",
              "      <th>1604</th>\n",
              "      <td>BRA</td>\n",
              "      <td>POVERTY</td>\n",
              "      <td>66MORE</td>\n",
              "      <td>RT</td>\n",
              "      <td>A</td>\n",
              "      <td>2006</td>\n",
              "      <td>0.067</td>\n",
              "    </tr>\n",
              "    <tr>\n",
              "      <th>1605</th>\n",
              "      <td>BRA</td>\n",
              "      <td>POVERTY</td>\n",
              "      <td>66MORE</td>\n",
              "      <td>RT</td>\n",
              "      <td>A</td>\n",
              "      <td>2009</td>\n",
              "      <td>0.073</td>\n",
              "    </tr>\n",
              "    <tr>\n",
              "      <th>1606</th>\n",
              "      <td>BRA</td>\n",
              "      <td>POVERTY</td>\n",
              "      <td>66MORE</td>\n",
              "      <td>RT</td>\n",
              "      <td>A</td>\n",
              "      <td>2011</td>\n",
              "      <td>0.081</td>\n",
              "    </tr>\n",
              "    <tr>\n",
              "      <th>1607</th>\n",
              "      <td>BRA</td>\n",
              "      <td>POVERTY</td>\n",
              "      <td>66MORE</td>\n",
              "      <td>RT</td>\n",
              "      <td>A</td>\n",
              "      <td>2013</td>\n",
              "      <td>0.077</td>\n",
              "    </tr>\n",
              "  </tbody>\n",
              "</table>\n",
              "</div>"
            ],
            "text/plain": [
              "     LOCATION INDICATOR SUBJECT MEASURE FREQUENCY  TIME  Value\n",
              "1592      BRA   POVERTY    0_17      RT         A  2006  0.312\n",
              "1593      BRA   POVERTY    0_17      RT         A  2009  0.307\n",
              "1594      BRA   POVERTY    0_17      RT         A  2011  0.308\n",
              "1595      BRA   POVERTY    0_17      RT         A  2013  0.301\n",
              "1596      BRA   POVERTY     TOT      RT         A  2006  0.212\n",
              "1597      BRA   POVERTY     TOT      RT         A  2009  0.206\n",
              "1598      BRA   POVERTY     TOT      RT         A  2011  0.209\n",
              "1599      BRA   POVERTY     TOT      RT         A  2013  0.200\n",
              "1600      BRA   POVERTY   18_65      RT         A  2006  0.176\n",
              "1601      BRA   POVERTY   18_65      RT         A  2009  0.174\n",
              "1602      BRA   POVERTY   18_65      RT         A  2011  0.180\n",
              "1603      BRA   POVERTY   18_65      RT         A  2013  0.173\n",
              "1604      BRA   POVERTY  66MORE      RT         A  2006  0.067\n",
              "1605      BRA   POVERTY  66MORE      RT         A  2009  0.073\n",
              "1606      BRA   POVERTY  66MORE      RT         A  2011  0.081\n",
              "1607      BRA   POVERTY  66MORE      RT         A  2013  0.077"
            ]
          },
          "metadata": {
            "tags": []
          },
          "execution_count": 75
        }
      ]
    },
    {
      "cell_type": "markdown",
      "metadata": {
        "id": "Xo7_1swvWeUb"
      },
      "source": [
        "#**Exploração dos Dados**"
      ]
    },
    {
      "cell_type": "code",
      "metadata": {
        "colab": {
          "base_uri": "https://localhost:8080/"
        },
        "id": "i2xbbvfpjjor",
        "outputId": "6f546552-f4d1-45f1-98ba-7f97199c6c9e"
      },
      "source": [
        "pais_brasil.shape\n",
        "# Retorna quantas linha e quantas colunas a tabela pais_brasil tem.\n",
        "# O resultado terá que ser (16,7), isto é, 16 linhas e 7 colunas.\n",
        "# A base contém 16 registros referentes ao Brasil."
      ],
      "execution_count": 76,
      "outputs": [
        {
          "output_type": "execute_result",
          "data": {
            "text/plain": [
              "(16, 7)"
            ]
          },
          "metadata": {
            "tags": []
          },
          "execution_count": 76
        }
      ]
    },
    {
      "cell_type": "code",
      "metadata": {
        "colab": {
          "base_uri": "https://localhost:8080/",
          "height": 545
        },
        "id": "eLXq7ZdblJ_L",
        "outputId": "126cc801-84e8-49b4-a479-e4a4420ad3da"
      },
      "source": [
        "qtdLinhas = pais_brasil['LOCATION'].count()\n",
        "# O código acima retorna a quantidade de linhas da tabela pais_brasil.\n",
        "# Decidi criar esse código para explorar melhor os dados da tabela com\n",
        "#a função head.\n",
        "# Apresentando a tabela novamente.\n",
        "pais_brasil.head(qtdLinhas)"
      ],
      "execution_count": 77,
      "outputs": [
        {
          "output_type": "execute_result",
          "data": {
            "text/html": [
              "<div>\n",
              "<style scoped>\n",
              "    .dataframe tbody tr th:only-of-type {\n",
              "        vertical-align: middle;\n",
              "    }\n",
              "\n",
              "    .dataframe tbody tr th {\n",
              "        vertical-align: top;\n",
              "    }\n",
              "\n",
              "    .dataframe thead th {\n",
              "        text-align: right;\n",
              "    }\n",
              "</style>\n",
              "<table border=\"1\" class=\"dataframe\">\n",
              "  <thead>\n",
              "    <tr style=\"text-align: right;\">\n",
              "      <th></th>\n",
              "      <th>LOCATION</th>\n",
              "      <th>INDICATOR</th>\n",
              "      <th>SUBJECT</th>\n",
              "      <th>MEASURE</th>\n",
              "      <th>FREQUENCY</th>\n",
              "      <th>TIME</th>\n",
              "      <th>Value</th>\n",
              "    </tr>\n",
              "  </thead>\n",
              "  <tbody>\n",
              "    <tr>\n",
              "      <th>1592</th>\n",
              "      <td>BRA</td>\n",
              "      <td>POVERTY</td>\n",
              "      <td>0_17</td>\n",
              "      <td>RT</td>\n",
              "      <td>A</td>\n",
              "      <td>2006</td>\n",
              "      <td>0.312</td>\n",
              "    </tr>\n",
              "    <tr>\n",
              "      <th>1593</th>\n",
              "      <td>BRA</td>\n",
              "      <td>POVERTY</td>\n",
              "      <td>0_17</td>\n",
              "      <td>RT</td>\n",
              "      <td>A</td>\n",
              "      <td>2009</td>\n",
              "      <td>0.307</td>\n",
              "    </tr>\n",
              "    <tr>\n",
              "      <th>1594</th>\n",
              "      <td>BRA</td>\n",
              "      <td>POVERTY</td>\n",
              "      <td>0_17</td>\n",
              "      <td>RT</td>\n",
              "      <td>A</td>\n",
              "      <td>2011</td>\n",
              "      <td>0.308</td>\n",
              "    </tr>\n",
              "    <tr>\n",
              "      <th>1595</th>\n",
              "      <td>BRA</td>\n",
              "      <td>POVERTY</td>\n",
              "      <td>0_17</td>\n",
              "      <td>RT</td>\n",
              "      <td>A</td>\n",
              "      <td>2013</td>\n",
              "      <td>0.301</td>\n",
              "    </tr>\n",
              "    <tr>\n",
              "      <th>1596</th>\n",
              "      <td>BRA</td>\n",
              "      <td>POVERTY</td>\n",
              "      <td>TOT</td>\n",
              "      <td>RT</td>\n",
              "      <td>A</td>\n",
              "      <td>2006</td>\n",
              "      <td>0.212</td>\n",
              "    </tr>\n",
              "    <tr>\n",
              "      <th>1597</th>\n",
              "      <td>BRA</td>\n",
              "      <td>POVERTY</td>\n",
              "      <td>TOT</td>\n",
              "      <td>RT</td>\n",
              "      <td>A</td>\n",
              "      <td>2009</td>\n",
              "      <td>0.206</td>\n",
              "    </tr>\n",
              "    <tr>\n",
              "      <th>1598</th>\n",
              "      <td>BRA</td>\n",
              "      <td>POVERTY</td>\n",
              "      <td>TOT</td>\n",
              "      <td>RT</td>\n",
              "      <td>A</td>\n",
              "      <td>2011</td>\n",
              "      <td>0.209</td>\n",
              "    </tr>\n",
              "    <tr>\n",
              "      <th>1599</th>\n",
              "      <td>BRA</td>\n",
              "      <td>POVERTY</td>\n",
              "      <td>TOT</td>\n",
              "      <td>RT</td>\n",
              "      <td>A</td>\n",
              "      <td>2013</td>\n",
              "      <td>0.200</td>\n",
              "    </tr>\n",
              "    <tr>\n",
              "      <th>1600</th>\n",
              "      <td>BRA</td>\n",
              "      <td>POVERTY</td>\n",
              "      <td>18_65</td>\n",
              "      <td>RT</td>\n",
              "      <td>A</td>\n",
              "      <td>2006</td>\n",
              "      <td>0.176</td>\n",
              "    </tr>\n",
              "    <tr>\n",
              "      <th>1601</th>\n",
              "      <td>BRA</td>\n",
              "      <td>POVERTY</td>\n",
              "      <td>18_65</td>\n",
              "      <td>RT</td>\n",
              "      <td>A</td>\n",
              "      <td>2009</td>\n",
              "      <td>0.174</td>\n",
              "    </tr>\n",
              "    <tr>\n",
              "      <th>1602</th>\n",
              "      <td>BRA</td>\n",
              "      <td>POVERTY</td>\n",
              "      <td>18_65</td>\n",
              "      <td>RT</td>\n",
              "      <td>A</td>\n",
              "      <td>2011</td>\n",
              "      <td>0.180</td>\n",
              "    </tr>\n",
              "    <tr>\n",
              "      <th>1603</th>\n",
              "      <td>BRA</td>\n",
              "      <td>POVERTY</td>\n",
              "      <td>18_65</td>\n",
              "      <td>RT</td>\n",
              "      <td>A</td>\n",
              "      <td>2013</td>\n",
              "      <td>0.173</td>\n",
              "    </tr>\n",
              "    <tr>\n",
              "      <th>1604</th>\n",
              "      <td>BRA</td>\n",
              "      <td>POVERTY</td>\n",
              "      <td>66MORE</td>\n",
              "      <td>RT</td>\n",
              "      <td>A</td>\n",
              "      <td>2006</td>\n",
              "      <td>0.067</td>\n",
              "    </tr>\n",
              "    <tr>\n",
              "      <th>1605</th>\n",
              "      <td>BRA</td>\n",
              "      <td>POVERTY</td>\n",
              "      <td>66MORE</td>\n",
              "      <td>RT</td>\n",
              "      <td>A</td>\n",
              "      <td>2009</td>\n",
              "      <td>0.073</td>\n",
              "    </tr>\n",
              "    <tr>\n",
              "      <th>1606</th>\n",
              "      <td>BRA</td>\n",
              "      <td>POVERTY</td>\n",
              "      <td>66MORE</td>\n",
              "      <td>RT</td>\n",
              "      <td>A</td>\n",
              "      <td>2011</td>\n",
              "      <td>0.081</td>\n",
              "    </tr>\n",
              "    <tr>\n",
              "      <th>1607</th>\n",
              "      <td>BRA</td>\n",
              "      <td>POVERTY</td>\n",
              "      <td>66MORE</td>\n",
              "      <td>RT</td>\n",
              "      <td>A</td>\n",
              "      <td>2013</td>\n",
              "      <td>0.077</td>\n",
              "    </tr>\n",
              "  </tbody>\n",
              "</table>\n",
              "</div>"
            ],
            "text/plain": [
              "     LOCATION INDICATOR SUBJECT MEASURE FREQUENCY  TIME  Value\n",
              "1592      BRA   POVERTY    0_17      RT         A  2006  0.312\n",
              "1593      BRA   POVERTY    0_17      RT         A  2009  0.307\n",
              "1594      BRA   POVERTY    0_17      RT         A  2011  0.308\n",
              "1595      BRA   POVERTY    0_17      RT         A  2013  0.301\n",
              "1596      BRA   POVERTY     TOT      RT         A  2006  0.212\n",
              "1597      BRA   POVERTY     TOT      RT         A  2009  0.206\n",
              "1598      BRA   POVERTY     TOT      RT         A  2011  0.209\n",
              "1599      BRA   POVERTY     TOT      RT         A  2013  0.200\n",
              "1600      BRA   POVERTY   18_65      RT         A  2006  0.176\n",
              "1601      BRA   POVERTY   18_65      RT         A  2009  0.174\n",
              "1602      BRA   POVERTY   18_65      RT         A  2011  0.180\n",
              "1603      BRA   POVERTY   18_65      RT         A  2013  0.173\n",
              "1604      BRA   POVERTY  66MORE      RT         A  2006  0.067\n",
              "1605      BRA   POVERTY  66MORE      RT         A  2009  0.073\n",
              "1606      BRA   POVERTY  66MORE      RT         A  2011  0.081\n",
              "1607      BRA   POVERTY  66MORE      RT         A  2013  0.077"
            ]
          },
          "metadata": {
            "tags": []
          },
          "execution_count": 77
        }
      ]
    },
    {
      "cell_type": "code",
      "metadata": {
        "colab": {
          "base_uri": "https://localhost:8080/",
          "height": 297
        },
        "id": "E0G2iF1w2wYB",
        "outputId": "b2793e68-d316-4f87-881f-e0f7b82b0495"
      },
      "source": [
        "pais_brasil.describe()\n",
        "# Só foi possível realizar os cálculos da função describe do tempo com o valor\n",
        "#refente a taxa de pobreza, pois são os únicos atributos numéricos\n",
        "#da base de dados. \n",
        "#Nem todos os cálculos para o tempo precisam ser considerados."
      ],
      "execution_count": 78,
      "outputs": [
        {
          "output_type": "execute_result",
          "data": {
            "text/html": [
              "<div>\n",
              "<style scoped>\n",
              "    .dataframe tbody tr th:only-of-type {\n",
              "        vertical-align: middle;\n",
              "    }\n",
              "\n",
              "    .dataframe tbody tr th {\n",
              "        vertical-align: top;\n",
              "    }\n",
              "\n",
              "    .dataframe thead th {\n",
              "        text-align: right;\n",
              "    }\n",
              "</style>\n",
              "<table border=\"1\" class=\"dataframe\">\n",
              "  <thead>\n",
              "    <tr style=\"text-align: right;\">\n",
              "      <th></th>\n",
              "      <th>TIME</th>\n",
              "      <th>Value</th>\n",
              "    </tr>\n",
              "  </thead>\n",
              "  <tbody>\n",
              "    <tr>\n",
              "      <th>count</th>\n",
              "      <td>16.00000</td>\n",
              "      <td>16.000000</td>\n",
              "    </tr>\n",
              "    <tr>\n",
              "      <th>mean</th>\n",
              "      <td>2009.75000</td>\n",
              "      <td>0.191000</td>\n",
              "    </tr>\n",
              "    <tr>\n",
              "      <th>std</th>\n",
              "      <td>2.67083</td>\n",
              "      <td>0.085756</td>\n",
              "    </tr>\n",
              "    <tr>\n",
              "      <th>min</th>\n",
              "      <td>2006.00000</td>\n",
              "      <td>0.067000</td>\n",
              "    </tr>\n",
              "    <tr>\n",
              "      <th>25%</th>\n",
              "      <td>2008.25000</td>\n",
              "      <td>0.150000</td>\n",
              "    </tr>\n",
              "    <tr>\n",
              "      <th>50%</th>\n",
              "      <td>2010.00000</td>\n",
              "      <td>0.190000</td>\n",
              "    </tr>\n",
              "    <tr>\n",
              "      <th>75%</th>\n",
              "      <td>2011.50000</td>\n",
              "      <td>0.234250</td>\n",
              "    </tr>\n",
              "    <tr>\n",
              "      <th>max</th>\n",
              "      <td>2013.00000</td>\n",
              "      <td>0.312000</td>\n",
              "    </tr>\n",
              "  </tbody>\n",
              "</table>\n",
              "</div>"
            ],
            "text/plain": [
              "             TIME      Value\n",
              "count    16.00000  16.000000\n",
              "mean   2009.75000   0.191000\n",
              "std       2.67083   0.085756\n",
              "min    2006.00000   0.067000\n",
              "25%    2008.25000   0.150000\n",
              "50%    2010.00000   0.190000\n",
              "75%    2011.50000   0.234250\n",
              "max    2013.00000   0.312000"
            ]
          },
          "metadata": {
            "tags": []
          },
          "execution_count": 78
        }
      ]
    },
    {
      "cell_type": "code",
      "metadata": {
        "colab": {
          "base_uri": "https://localhost:8080/",
          "height": 111
        },
        "id": "5idDqOKEjpDG",
        "outputId": "ee000cae-be63-4612-cbf3-b028c48242c1"
      },
      "source": [
        "pais_brasil.corr()\n",
        "# Só foi possível fazer a correlação do tempo com o valor\n",
        "#refente a taxa de pobreza, pois são os únicos atributos\n",
        "#numéricos da base de dados"
      ],
      "execution_count": 79,
      "outputs": [
        {
          "output_type": "execute_result",
          "data": {
            "text/html": [
              "<div>\n",
              "<style scoped>\n",
              "    .dataframe tbody tr th:only-of-type {\n",
              "        vertical-align: middle;\n",
              "    }\n",
              "\n",
              "    .dataframe tbody tr th {\n",
              "        vertical-align: top;\n",
              "    }\n",
              "\n",
              "    .dataframe thead th {\n",
              "        text-align: right;\n",
              "    }\n",
              "</style>\n",
              "<table border=\"1\" class=\"dataframe\">\n",
              "  <thead>\n",
              "    <tr style=\"text-align: right;\">\n",
              "      <th></th>\n",
              "      <th>TIME</th>\n",
              "      <th>Value</th>\n",
              "    </tr>\n",
              "  </thead>\n",
              "  <tbody>\n",
              "    <tr>\n",
              "      <th>TIME</th>\n",
              "      <td>1.000000</td>\n",
              "      <td>-0.009605</td>\n",
              "    </tr>\n",
              "    <tr>\n",
              "      <th>Value</th>\n",
              "      <td>-0.009605</td>\n",
              "      <td>1.000000</td>\n",
              "    </tr>\n",
              "  </tbody>\n",
              "</table>\n",
              "</div>"
            ],
            "text/plain": [
              "           TIME     Value\n",
              "TIME   1.000000 -0.009605\n",
              "Value -0.009605  1.000000"
            ]
          },
          "metadata": {
            "tags": []
          },
          "execution_count": 79
        }
      ]
    },
    {
      "cell_type": "code",
      "metadata": {
        "colab": {
          "base_uri": "https://localhost:8080/",
          "height": 173
        },
        "id": "8Z2rHUbuI2Pv",
        "outputId": "c0049a38-d513-424c-c4b3-05f150c41843"
      },
      "source": [
        "# Separando por faixas etárias\n",
        "# Cidadãos de 0 a 17 Anos de Idade\n",
        "ft_0_17 = pais_brasil.loc[pais_brasil['SUBJECT']=='0_17']\n",
        "ft_0_17"
      ],
      "execution_count": 80,
      "outputs": [
        {
          "output_type": "execute_result",
          "data": {
            "text/html": [
              "<div>\n",
              "<style scoped>\n",
              "    .dataframe tbody tr th:only-of-type {\n",
              "        vertical-align: middle;\n",
              "    }\n",
              "\n",
              "    .dataframe tbody tr th {\n",
              "        vertical-align: top;\n",
              "    }\n",
              "\n",
              "    .dataframe thead th {\n",
              "        text-align: right;\n",
              "    }\n",
              "</style>\n",
              "<table border=\"1\" class=\"dataframe\">\n",
              "  <thead>\n",
              "    <tr style=\"text-align: right;\">\n",
              "      <th></th>\n",
              "      <th>LOCATION</th>\n",
              "      <th>INDICATOR</th>\n",
              "      <th>SUBJECT</th>\n",
              "      <th>MEASURE</th>\n",
              "      <th>FREQUENCY</th>\n",
              "      <th>TIME</th>\n",
              "      <th>Value</th>\n",
              "    </tr>\n",
              "  </thead>\n",
              "  <tbody>\n",
              "    <tr>\n",
              "      <th>1592</th>\n",
              "      <td>BRA</td>\n",
              "      <td>POVERTY</td>\n",
              "      <td>0_17</td>\n",
              "      <td>RT</td>\n",
              "      <td>A</td>\n",
              "      <td>2006</td>\n",
              "      <td>0.312</td>\n",
              "    </tr>\n",
              "    <tr>\n",
              "      <th>1593</th>\n",
              "      <td>BRA</td>\n",
              "      <td>POVERTY</td>\n",
              "      <td>0_17</td>\n",
              "      <td>RT</td>\n",
              "      <td>A</td>\n",
              "      <td>2009</td>\n",
              "      <td>0.307</td>\n",
              "    </tr>\n",
              "    <tr>\n",
              "      <th>1594</th>\n",
              "      <td>BRA</td>\n",
              "      <td>POVERTY</td>\n",
              "      <td>0_17</td>\n",
              "      <td>RT</td>\n",
              "      <td>A</td>\n",
              "      <td>2011</td>\n",
              "      <td>0.308</td>\n",
              "    </tr>\n",
              "    <tr>\n",
              "      <th>1595</th>\n",
              "      <td>BRA</td>\n",
              "      <td>POVERTY</td>\n",
              "      <td>0_17</td>\n",
              "      <td>RT</td>\n",
              "      <td>A</td>\n",
              "      <td>2013</td>\n",
              "      <td>0.301</td>\n",
              "    </tr>\n",
              "  </tbody>\n",
              "</table>\n",
              "</div>"
            ],
            "text/plain": [
              "     LOCATION INDICATOR SUBJECT MEASURE FREQUENCY  TIME  Value\n",
              "1592      BRA   POVERTY    0_17      RT         A  2006  0.312\n",
              "1593      BRA   POVERTY    0_17      RT         A  2009  0.307\n",
              "1594      BRA   POVERTY    0_17      RT         A  2011  0.308\n",
              "1595      BRA   POVERTY    0_17      RT         A  2013  0.301"
            ]
          },
          "metadata": {
            "tags": []
          },
          "execution_count": 80
        }
      ]
    },
    {
      "cell_type": "code",
      "metadata": {
        "colab": {
          "base_uri": "https://localhost:8080/",
          "height": 173
        },
        "id": "xt1J4k1MJgK-",
        "outputId": "0f99eb96-e1ab-4f64-85eb-f5a37745ff04"
      },
      "source": [
        "# Separando por faixas etárias\n",
        "# Cidadãos de 18 a 65 Anos de Idade\n",
        "ft_18_65 = pais_brasil.loc[pais_brasil['SUBJECT']=='18_65']\n",
        "ft_18_65"
      ],
      "execution_count": 81,
      "outputs": [
        {
          "output_type": "execute_result",
          "data": {
            "text/html": [
              "<div>\n",
              "<style scoped>\n",
              "    .dataframe tbody tr th:only-of-type {\n",
              "        vertical-align: middle;\n",
              "    }\n",
              "\n",
              "    .dataframe tbody tr th {\n",
              "        vertical-align: top;\n",
              "    }\n",
              "\n",
              "    .dataframe thead th {\n",
              "        text-align: right;\n",
              "    }\n",
              "</style>\n",
              "<table border=\"1\" class=\"dataframe\">\n",
              "  <thead>\n",
              "    <tr style=\"text-align: right;\">\n",
              "      <th></th>\n",
              "      <th>LOCATION</th>\n",
              "      <th>INDICATOR</th>\n",
              "      <th>SUBJECT</th>\n",
              "      <th>MEASURE</th>\n",
              "      <th>FREQUENCY</th>\n",
              "      <th>TIME</th>\n",
              "      <th>Value</th>\n",
              "    </tr>\n",
              "  </thead>\n",
              "  <tbody>\n",
              "    <tr>\n",
              "      <th>1600</th>\n",
              "      <td>BRA</td>\n",
              "      <td>POVERTY</td>\n",
              "      <td>18_65</td>\n",
              "      <td>RT</td>\n",
              "      <td>A</td>\n",
              "      <td>2006</td>\n",
              "      <td>0.176</td>\n",
              "    </tr>\n",
              "    <tr>\n",
              "      <th>1601</th>\n",
              "      <td>BRA</td>\n",
              "      <td>POVERTY</td>\n",
              "      <td>18_65</td>\n",
              "      <td>RT</td>\n",
              "      <td>A</td>\n",
              "      <td>2009</td>\n",
              "      <td>0.174</td>\n",
              "    </tr>\n",
              "    <tr>\n",
              "      <th>1602</th>\n",
              "      <td>BRA</td>\n",
              "      <td>POVERTY</td>\n",
              "      <td>18_65</td>\n",
              "      <td>RT</td>\n",
              "      <td>A</td>\n",
              "      <td>2011</td>\n",
              "      <td>0.180</td>\n",
              "    </tr>\n",
              "    <tr>\n",
              "      <th>1603</th>\n",
              "      <td>BRA</td>\n",
              "      <td>POVERTY</td>\n",
              "      <td>18_65</td>\n",
              "      <td>RT</td>\n",
              "      <td>A</td>\n",
              "      <td>2013</td>\n",
              "      <td>0.173</td>\n",
              "    </tr>\n",
              "  </tbody>\n",
              "</table>\n",
              "</div>"
            ],
            "text/plain": [
              "     LOCATION INDICATOR SUBJECT MEASURE FREQUENCY  TIME  Value\n",
              "1600      BRA   POVERTY   18_65      RT         A  2006  0.176\n",
              "1601      BRA   POVERTY   18_65      RT         A  2009  0.174\n",
              "1602      BRA   POVERTY   18_65      RT         A  2011  0.180\n",
              "1603      BRA   POVERTY   18_65      RT         A  2013  0.173"
            ]
          },
          "metadata": {
            "tags": []
          },
          "execution_count": 81
        }
      ]
    },
    {
      "cell_type": "code",
      "metadata": {
        "colab": {
          "base_uri": "https://localhost:8080/",
          "height": 173
        },
        "id": "KAAKIeL9J0S4",
        "outputId": "40f6ba53-33c0-4a59-dfe7-63693ad0b9e7"
      },
      "source": [
        "# Separando por faixas etárias\n",
        "# Cidadãos com no mínimo 66 Anos de Idade\n",
        "ft_66MORE = pais_brasil.loc[pais_brasil['SUBJECT']=='66MORE']\n",
        "ft_66MORE"
      ],
      "execution_count": 82,
      "outputs": [
        {
          "output_type": "execute_result",
          "data": {
            "text/html": [
              "<div>\n",
              "<style scoped>\n",
              "    .dataframe tbody tr th:only-of-type {\n",
              "        vertical-align: middle;\n",
              "    }\n",
              "\n",
              "    .dataframe tbody tr th {\n",
              "        vertical-align: top;\n",
              "    }\n",
              "\n",
              "    .dataframe thead th {\n",
              "        text-align: right;\n",
              "    }\n",
              "</style>\n",
              "<table border=\"1\" class=\"dataframe\">\n",
              "  <thead>\n",
              "    <tr style=\"text-align: right;\">\n",
              "      <th></th>\n",
              "      <th>LOCATION</th>\n",
              "      <th>INDICATOR</th>\n",
              "      <th>SUBJECT</th>\n",
              "      <th>MEASURE</th>\n",
              "      <th>FREQUENCY</th>\n",
              "      <th>TIME</th>\n",
              "      <th>Value</th>\n",
              "    </tr>\n",
              "  </thead>\n",
              "  <tbody>\n",
              "    <tr>\n",
              "      <th>1604</th>\n",
              "      <td>BRA</td>\n",
              "      <td>POVERTY</td>\n",
              "      <td>66MORE</td>\n",
              "      <td>RT</td>\n",
              "      <td>A</td>\n",
              "      <td>2006</td>\n",
              "      <td>0.067</td>\n",
              "    </tr>\n",
              "    <tr>\n",
              "      <th>1605</th>\n",
              "      <td>BRA</td>\n",
              "      <td>POVERTY</td>\n",
              "      <td>66MORE</td>\n",
              "      <td>RT</td>\n",
              "      <td>A</td>\n",
              "      <td>2009</td>\n",
              "      <td>0.073</td>\n",
              "    </tr>\n",
              "    <tr>\n",
              "      <th>1606</th>\n",
              "      <td>BRA</td>\n",
              "      <td>POVERTY</td>\n",
              "      <td>66MORE</td>\n",
              "      <td>RT</td>\n",
              "      <td>A</td>\n",
              "      <td>2011</td>\n",
              "      <td>0.081</td>\n",
              "    </tr>\n",
              "    <tr>\n",
              "      <th>1607</th>\n",
              "      <td>BRA</td>\n",
              "      <td>POVERTY</td>\n",
              "      <td>66MORE</td>\n",
              "      <td>RT</td>\n",
              "      <td>A</td>\n",
              "      <td>2013</td>\n",
              "      <td>0.077</td>\n",
              "    </tr>\n",
              "  </tbody>\n",
              "</table>\n",
              "</div>"
            ],
            "text/plain": [
              "     LOCATION INDICATOR SUBJECT MEASURE FREQUENCY  TIME  Value\n",
              "1604      BRA   POVERTY  66MORE      RT         A  2006  0.067\n",
              "1605      BRA   POVERTY  66MORE      RT         A  2009  0.073\n",
              "1606      BRA   POVERTY  66MORE      RT         A  2011  0.081\n",
              "1607      BRA   POVERTY  66MORE      RT         A  2013  0.077"
            ]
          },
          "metadata": {
            "tags": []
          },
          "execution_count": 82
        }
      ]
    },
    {
      "cell_type": "code",
      "metadata": {
        "colab": {
          "base_uri": "https://localhost:8080/",
          "height": 173
        },
        "id": "7uc70UgFKAez",
        "outputId": "d1fcb9dd-d07c-476b-f243-33e8d38cad09"
      },
      "source": [
        "# Separando por faixas etárias\n",
        "# População Brasileira\n",
        "ft_TOT = pais_brasil.loc[pais_brasil['SUBJECT']=='TOT']\n",
        "ft_TOT"
      ],
      "execution_count": 83,
      "outputs": [
        {
          "output_type": "execute_result",
          "data": {
            "text/html": [
              "<div>\n",
              "<style scoped>\n",
              "    .dataframe tbody tr th:only-of-type {\n",
              "        vertical-align: middle;\n",
              "    }\n",
              "\n",
              "    .dataframe tbody tr th {\n",
              "        vertical-align: top;\n",
              "    }\n",
              "\n",
              "    .dataframe thead th {\n",
              "        text-align: right;\n",
              "    }\n",
              "</style>\n",
              "<table border=\"1\" class=\"dataframe\">\n",
              "  <thead>\n",
              "    <tr style=\"text-align: right;\">\n",
              "      <th></th>\n",
              "      <th>LOCATION</th>\n",
              "      <th>INDICATOR</th>\n",
              "      <th>SUBJECT</th>\n",
              "      <th>MEASURE</th>\n",
              "      <th>FREQUENCY</th>\n",
              "      <th>TIME</th>\n",
              "      <th>Value</th>\n",
              "    </tr>\n",
              "  </thead>\n",
              "  <tbody>\n",
              "    <tr>\n",
              "      <th>1596</th>\n",
              "      <td>BRA</td>\n",
              "      <td>POVERTY</td>\n",
              "      <td>TOT</td>\n",
              "      <td>RT</td>\n",
              "      <td>A</td>\n",
              "      <td>2006</td>\n",
              "      <td>0.212</td>\n",
              "    </tr>\n",
              "    <tr>\n",
              "      <th>1597</th>\n",
              "      <td>BRA</td>\n",
              "      <td>POVERTY</td>\n",
              "      <td>TOT</td>\n",
              "      <td>RT</td>\n",
              "      <td>A</td>\n",
              "      <td>2009</td>\n",
              "      <td>0.206</td>\n",
              "    </tr>\n",
              "    <tr>\n",
              "      <th>1598</th>\n",
              "      <td>BRA</td>\n",
              "      <td>POVERTY</td>\n",
              "      <td>TOT</td>\n",
              "      <td>RT</td>\n",
              "      <td>A</td>\n",
              "      <td>2011</td>\n",
              "      <td>0.209</td>\n",
              "    </tr>\n",
              "    <tr>\n",
              "      <th>1599</th>\n",
              "      <td>BRA</td>\n",
              "      <td>POVERTY</td>\n",
              "      <td>TOT</td>\n",
              "      <td>RT</td>\n",
              "      <td>A</td>\n",
              "      <td>2013</td>\n",
              "      <td>0.200</td>\n",
              "    </tr>\n",
              "  </tbody>\n",
              "</table>\n",
              "</div>"
            ],
            "text/plain": [
              "     LOCATION INDICATOR SUBJECT MEASURE FREQUENCY  TIME  Value\n",
              "1596      BRA   POVERTY     TOT      RT         A  2006  0.212\n",
              "1597      BRA   POVERTY     TOT      RT         A  2009  0.206\n",
              "1598      BRA   POVERTY     TOT      RT         A  2011  0.209\n",
              "1599      BRA   POVERTY     TOT      RT         A  2013  0.200"
            ]
          },
          "metadata": {
            "tags": []
          },
          "execution_count": 83
        }
      ]
    },
    {
      "cell_type": "code",
      "metadata": {
        "colab": {
          "base_uri": "https://localhost:8080/",
          "height": 428
        },
        "id": "GRTmCoRNF-i1",
        "outputId": "13b46f13-7155-4fdd-a11b-4de100c6767d"
      },
      "source": [
        "#Gráfico de Linhas\n",
        "plt.style.use(\"ggplot\")\n",
        "plt.figure(figsize = (10, 6))\n",
        "\n",
        "x = [2006,2009,2011,2013]\n",
        "y1 = ft_0_17['Value']\n",
        "y2 = ft_18_65['Value']\n",
        "y3 = ft_66MORE['Value']\n",
        "y4 = ft_TOT['Value']\n",
        "\n",
        "plt.plot(x, y1, label=\"Cidadãos de 0 a 17 Anos de Idade\")\n",
        "plt.plot(x, y2, label=\"Cidadãos de 18 a 65 Anos de Idade\")\n",
        "plt.plot(x, y3, label=\"Cidadãos com no mínimo 66 Anos de Idade\")\n",
        "plt.plot(x, y4, label=\"Todos os Cidadãos Brasileiros\")\n",
        "plt.plot()\n",
        "\n",
        "plt.xlabel(\"Período de Tempo\")\n",
        "plt.ylabel(\"Taxa de Pobreza\")\n",
        "plt.title(\"Evolução da Taxa de Pobreza no Brasil: 2006-2013\")\n",
        "#plt.legend(loc=0)\n",
        "#O comando abaixo serve para melhorar a legenda do gráfico\n",
        "plt.legend(bbox_to_anchor=(0.5, -0.2), loc='upper center')\n",
        "plt.tight_layout()\n",
        "#plt.xticks(rotation=90)\n",
        "\n",
        "plt.show()"
      ],
      "execution_count": 84,
      "outputs": [
        {
          "output_type": "display_data",
          "data": {
            "image/png": "[encoded data removed]",
            "text/plain": [
              "<Figure size 720x432 with 1 Axes>"
            ]
          },
          "metadata": {
            "tags": []
          }
        }
      ]
    },
    {
      "cell_type": "code",
      "metadata": {
        "colab": {
          "base_uri": "https://localhost:8080/",
          "height": 354
        },
        "id": "BHS_Yl46FdR-",
        "outputId": "5b81ffe7-05fc-4b03-fc8d-0b3c99a863ad"
      },
      "source": [
        "#Gráfico de Barras\n",
        "import numpy as np\n",
        "\n",
        "#definição da largura das barras\n",
        "barWidth = 0.2\n",
        "\n",
        "faixa017 = [y1[1592],y2[1600],y3[1604],y4[1596]]\n",
        "faixa1865 = [y1[1593],y2[1601],y3[1605],y4[1597]]\n",
        "faixa66MORE = [y1[1594],y2[1602],y3[1606],y4[1598]]\n",
        "faixaTot = [y1[1595],y2[1603],y3[1607],y4[1599]]\n",
        "\n",
        "#Aumentando o gráfico\n",
        "plt.figure(figsize=(10,5))\n",
        "\n",
        "#Definição da posição das barras\n",
        "bar1 = np.arange(len(faixa017)) #y1\n",
        "bar2 = [x1 + barWidth for x1 in bar1]\n",
        "bar3 = [x1 + barWidth for x1 in bar2]\n",
        "bar4 = [x1 + barWidth for x1 in bar3]\n",
        "\n",
        "#Criação das barras\n",
        "plt.bar(bar1,faixa017,color='#6A5ACD',width=barWidth,label='2006')\n",
        "plt.bar(bar2,faixa1865,color='#6495ED',width=barWidth,label='2009')\n",
        "plt.bar(bar3,faixa66MORE,color='#00BFFF',width=barWidth,label='2011')\n",
        "plt.bar(bar4,faixaTot,color='#FFBDDD',width=barWidth,label='2013')\n",
        "\n",
        "#Adição de legendas as barras\n",
        "plt.xlabel('Faixa Etária')\n",
        "plt.xticks([r + barWidth for r in range(len(y1))],['0 a 17','18 a 65','Acima de 65','Total'])\n",
        "plt.ylabel('Taxa de Pobreza')\n",
        "plt.title('Evolução da Taxa de Pobreza no Brasil: 2006-2013')\n",
        "\n",
        "plt.legend()\n",
        "plt.show()"
      ],
      "execution_count": 98,
      "outputs": [
        {
          "output_type": "display_data",
          "data": {
            "image/png": "[encoded data removed]",
            "text/plain": [
              "<Figure size 720x360 with 1 Axes>"
            ]
          },
          "metadata": {
            "tags": []
          }
        }
      ]
    },
    {
      "cell_type": "code",
      "metadata": {
        "colab": {
          "base_uri": "https://localhost:8080/"
        },
        "id": "0u46dAVvUjb-",
        "outputId": "24353aeb-404e-40cc-9832-46107672361c"
      },
      "source": [
        "# Calculando a média da taxa de pobreza ao longo do período para os\n",
        "#cidadãos com idade de 0 a 17 anos de idade.\n",
        "med_0_17 = np.mean(y1)\n",
        "med_0_17"
      ],
      "execution_count": 102,
      "outputs": [
        {
          "output_type": "execute_result",
          "data": {
            "text/plain": [
              "0.307"
            ]
          },
          "metadata": {
            "tags": []
          },
          "execution_count": 102
        }
      ]
    },
    {
      "cell_type": "code",
      "metadata": {
        "colab": {
          "base_uri": "https://localhost:8080/",
          "height": 354
        },
        "id": "sm5yh7wcn5OV",
        "outputId": "b95ab87e-fd1a-4a45-f610-73bf07346f16"
      },
      "source": [
        "anosMed = [2006,2009,2011,2013]\n",
        "comp_y1 = [y1[1592], y1[1593], y1[1594], y1[1595]]\n",
        "\n",
        "plt.figure(figsize=[10,5])\n",
        "plt.bar(anosMed,comp_y1)\n",
        "plt.title(\"Comparação da Taxa de Pobreza no Brasil - Jovens de 0 a 17 anos de Idade\")\n",
        "plt.xlabel(\"Período de Tempo\")\n",
        "plt.ylabel(\"Taxa de Pobreza\")\n",
        "plt.axis([2005, 2014, 0, 0.35])\n",
        "#O código abaixo faz o seguinte:\n",
        "#Impede que os valores das populações sejam escritos em notação científica.\n",
        "plt.ticklabel_format(style='plain', axis='y') \n",
        "plt.grid(True)\n",
        "#plt.box(False)\n",
        "\n",
        "# Colocando os valores das taxas anuais acima de cada barra\n",
        "for i in range(len(comp_y1)): \n",
        "  plt.annotate(str(comp_y1[i]), xy=(anosMed[i],comp_y1[i]))\n",
        "\n",
        "plt.show()\n",
        "#Analisando o gráfico abaixo podemos perceber que no último ano pelo qual a\n",
        "#taxa de pobreza foi medida, ela ficou abaixo da média de 0.307 calculada\n",
        "#anteriormente. Podemos concluir que houve um esforço para tentar diminuir\n",
        "#a taxa de pobreza nessa faixa etária.\n"
      ],
      "execution_count": 121,
      "outputs": [
        {
          "output_type": "display_data",
          "data": {
            "image/png": "[encoded data removed]",
            "text/plain": [
              "<Figure size 720x360 with 1 Axes>"
            ]
          },
          "metadata": {
            "tags": []
          }
        }
      ]
    },
    {
      "cell_type": "code",
      "metadata": {
        "colab": {
          "base_uri": "https://localhost:8080/"
        },
        "id": "cBA3lCA_k79i",
        "outputId": "199aa767-b874-4a60-b574-f86805bd32bb"
      },
      "source": [
        "# Calculando a média da taxa de pobreza ao longo do período para os\n",
        "#cidadãos com idade de 18 a 65 anos de idade.\n",
        "med_18_65 = np.mean(y2)\n",
        "med_18_65"
      ],
      "execution_count": 103,
      "outputs": [
        {
          "output_type": "execute_result",
          "data": {
            "text/plain": [
              "0.17575000000000002"
            ]
          },
          "metadata": {
            "tags": []
          },
          "execution_count": 103
        }
      ]
    },
    {
      "cell_type": "code",
      "metadata": {
        "colab": {
          "base_uri": "https://localhost:8080/",
          "height": 354
        },
        "id": "vIdv2t5NuLvH",
        "outputId": "f569926a-25bb-48f6-b063-19688d47e3d0"
      },
      "source": [
        "#Como anosMed já foi definido anteriormente, então desconsiderei aqui.\n",
        "#anosMed = [2006,2009,2011,2013]\n",
        "comp_y2 = [y2[1600], y2[1601], y2[1602], y2[1603]]\n",
        "\n",
        "plt.figure(figsize=[10,5])\n",
        "plt.bar(anosMed,comp_y2)\n",
        "plt.title(\"Comparação da Taxa de Pobreza no Brasil - Adultos de 18 a 65 anos de Idade\")\n",
        "plt.xlabel(\"Período de Tempo\")\n",
        "plt.ylabel(\"Taxa de Pobreza\")\n",
        "plt.axis([2005, 2014, 0, 0.2])\n",
        "#O código abaixo faz o seguinte:\n",
        "#Impede que os valores das populações sejam escritos em notação científica.\n",
        "plt.ticklabel_format(style='plain', axis='y') \n",
        "plt.grid(True)\n",
        "#plt.box(False)\n",
        "\n",
        "# Colocando os valores das taxas anuais acima de cada barra\n",
        "for i in range(len(comp_y2)): \n",
        "  plt.annotate(str(comp_y2[i]), xy=(anosMed[i],comp_y2[i]))\n",
        "\n",
        "plt.show()\n",
        "#Analisando o gráfico abaixo podemos perceber que no último ano pelo qual a\n",
        "#taxa de pobreza foi medida, ela ficou abaixo da média de 0.17575 calculada\n",
        "#anteriormente. Podemos concluir que também houve um esforço para tentar\n",
        "#diminuir a taxa de pobreza nessa faixa etária.\n"
      ],
      "execution_count": 125,
      "outputs": [
        {
          "output_type": "display_data",
          "data": {
            "image/png": "[encoded data removed]",
            "text/plain": [
              "<Figure size 720x360 with 1 Axes>"
            ]
          },
          "metadata": {
            "tags": []
          }
        }
      ]
    },
    {
      "cell_type": "code",
      "metadata": {
        "colab": {
          "base_uri": "https://localhost:8080/"
        },
        "id": "B5bmPO3oOc1t",
        "outputId": "6551195e-cd3e-4488-9636-3f33817094c3"
      },
      "source": [
        "# Calculando a média da taxa de pobreza ao longo do período para os\n",
        "#cidadãos com idade de no mínimo 66 anos de idade.\n",
        "med_66_MORE = np.mean(y3)\n",
        "med_66_MORE"
      ],
      "execution_count": 104,
      "outputs": [
        {
          "output_type": "execute_result",
          "data": {
            "text/plain": [
              "0.07450000000000001"
            ]
          },
          "metadata": {
            "tags": []
          },
          "execution_count": 104
        }
      ]
    },
    {
      "cell_type": "code",
      "metadata": {
        "colab": {
          "base_uri": "https://localhost:8080/",
          "height": 354
        },
        "id": "3CKSiEGAvRHs",
        "outputId": "af5c2b20-8a3e-4107-885d-5cc0fbcd3be6"
      },
      "source": [
        "#Como anosMed já foi definido anteriormente, então desconsiderei aqui.\n",
        "#anosMed = [2006,2009,2011,2013]\n",
        "comp_y3 = [y3[1604], y3[1605], y3[1606], y3[1607]]\n",
        "\n",
        "plt.figure(figsize=[10,5])\n",
        "plt.bar(anosMed,comp_y3)\n",
        "plt.title(\"Comparação da Taxa de Pobreza no Brasil - Idosos acima de 65 anos de Idade\")\n",
        "plt.xlabel(\"Período de Tempo\")\n",
        "plt.ylabel(\"Taxa de Pobreza\")\n",
        "plt.axis([2005, 2014, 0, 0.1])\n",
        "#O código abaixo faz o seguinte:\n",
        "#Impede que os valores das populações sejam escritos em notação científica.\n",
        "plt.ticklabel_format(style='plain', axis='y') \n",
        "plt.grid(True)\n",
        "#plt.box(False)\n",
        "\n",
        "# Colocando os valores das taxas anuais acima de cada barra\n",
        "for i in range(len(comp_y3)): \n",
        "  plt.annotate(str(comp_y3[i]), xy=(anosMed[i],comp_y3[i]))\n",
        "\n",
        "plt.show()\n",
        "#Analisando o gráfico abaixo podemos perceber que no último ano pelo qual a\n",
        "#taxa de pobreza foi medida, ela ficou acima da média de 0.0745 calculada\n",
        "#anteriormente. Podemos concluir que é necessário haver mais esforço para tentar\n",
        "#diminuir a taxa de pobreza nessa faixa etária, pois apesar de ter diminuído\n",
        "#da medição de 2011 para 2013, a taxa ainda continua alta e desde o início do\n",
        "#período ela tendeu a aumentar.\n"
      ],
      "execution_count": 129,
      "outputs": [
        {
          "output_type": "display_data",
          "data": {
            "image/png": "[encoded data removed]",
            "text/plain": [
              "<Figure size 720x360 with 1 Axes>"
            ]
          },
          "metadata": {
            "tags": []
          }
        }
      ]
    },
    {
      "cell_type": "code",
      "metadata": {
        "colab": {
          "base_uri": "https://localhost:8080/"
        },
        "id": "VPd1gOaRlRxe",
        "outputId": "329fbc83-c506-4e4b-8bc6-5fb5fbd1c4d2"
      },
      "source": [
        "## Calculando a média da taxa de pobreza ao longo do período para os\n",
        "#cidadãos com idade de no mínimo 66 anos de idade.\n",
        "med_total = np.mean(y4)\n",
        "med_total"
      ],
      "execution_count": 105,
      "outputs": [
        {
          "output_type": "execute_result",
          "data": {
            "text/plain": [
              "0.20675"
            ]
          },
          "metadata": {
            "tags": []
          },
          "execution_count": 105
        }
      ]
    },
    {
      "cell_type": "code",
      "metadata": {
        "colab": {
          "base_uri": "https://localhost:8080/",
          "height": 354
        },
        "id": "zK1m_QROxEtd",
        "outputId": "8e70d1a6-84db-46a5-fa12-7e14b2b7f9c8"
      },
      "source": [
        "#Como anosMed já foi definido anteriormente, então desconsiderei aqui.\n",
        "#anosMed = [2006,2009,2011,2013]\n",
        "comp_y4 = [y4[1596], y4[1597], y4[1598], y4[1599]]\n",
        "\n",
        "plt.figure(figsize=[10,5])\n",
        "plt.bar(anosMed,comp_y4)\n",
        "plt.title(\"Comparação da Taxa de Pobreza no Brasil - Toda a População\")\n",
        "plt.xlabel(\"Período de Tempo\")\n",
        "plt.ylabel(\"Taxa de Pobreza\")\n",
        "plt.axis([2005, 2014, 0, 0.25])\n",
        "#O código abaixo faz o seguinte:\n",
        "#Impede que os valores das populações sejam escritos em notação científica.\n",
        "plt.ticklabel_format(style='plain', axis='y') \n",
        "plt.grid(True)\n",
        "#plt.box(False)\n",
        "\n",
        "# Colocando os valores das taxas anuais acima de cada barra\n",
        "for i in range(len(comp_y4)): \n",
        "  plt.annotate(str(comp_y4[i]), xy=(anosMed[i],comp_y4[i]))\n",
        "\n",
        "plt.show()\n",
        "#Analisando o gráfico abaixo podemos perceber que no último ano pelo qual a\n",
        "#taxa de pobreza foi medida, ela ficou um pouco abaixo da média de 0.20675\n",
        "#calculada anteriormente. Sendo assim, podemos concluir que é necessário haver\n",
        "#mais esforço para tentar diminuir a taxa de pobreza total da população brasileira.\n",
        "#Entretanto, em uma análise geral, conseguimos identificar que a taxa de pobreza\n",
        "#da população diminuiu no decorrer dos anos.\n"
      ],
      "execution_count": 132,
      "outputs": [
        {
          "output_type": "display_data",
          "data": {
            "image/png": "[encoded data removed]",
            "text/plain": [
              "<Figure size 720x360 with 1 Axes>"
            ]
          },
          "metadata": {
            "tags": []
          }
        }
      ]
    },
    {
      "cell_type": "markdown",
      "metadata": {
        "id": "KfsgSTryWwYv"
      },
      "source": [
        "#**Interpretação dos Dados**\n"
      ]
    },
    {
      "cell_type": "markdown",
      "metadata": {
        "id": "rg5FJ9AMWJ-s"
      },
      "source": [
        "Após a análise dos resultados, foi possível concluir que a pobreza no Brasil diminuiu no período de 2006 a 2013 considerando a população total do país. Dentre todas as faixas etárias estudadas, somente a taxa de pobreza dos cidadãos com no mínimo 66 anos de idade que aumentou no período. Portanto, o país deve melhorar suas políticas de combate a pobreza para atingir a meta da ONU 2030 visando para tentar erradicá-la."
      ]
    }
  ]
}